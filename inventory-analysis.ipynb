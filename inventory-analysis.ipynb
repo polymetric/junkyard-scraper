{
 "cells": [
  {
   "cell_type": "code",
   "execution_count": 1,
   "id": "39e0be62-930c-4804-a8e7-3b996e32cf8e",
   "metadata": {},
   "outputs": [
    {
     "name": "stdout",
     "output_type": "stream",
     "text": [
      "loaded 1945 existing cars\n"
     ]
    }
   ],
   "source": [
    "%run inventory-analyzer.py\n",
    "cars_df = load_car_data(\"cars_cfpnp.json\")\n",
    "cars_df['year'] = cars_df['year'].apply(int)"
   ]
  },
  {
   "cell_type": "code",
   "execution_count": 2,
   "id": "c486445f-e0a1-4fbc-9073-f19229f75caf",
   "metadata": {},
   "outputs": [],
   "source": [
    "# add parsed engine parameters to dataframe\n",
    "def f(item, subitem):\n",
    "    try:\n",
    "        return parse_engine_string(item['engine'])[subitem]\n",
    "    except TypeError:\n",
    "        return None\n",
    "cars_df['engine_type'] = cars_df.apply(lambda i: f(i, 'type'), axis=1)\n",
    "cars_df['engine_cylinders'] = cars_df.apply(lambda i: f(i, 'cylinders'), axis=1)\n",
    "cars_df['engine_displacement'] = cars_df.apply(lambda i: f(i, 'displacement'), axis=1)"
   ]
  },
  {
   "cell_type": "code",
   "execution_count": 6,
   "id": "eb6a2a62-e2a6-4cd3-8bb5-626d1245c43a",
   "metadata": {
    "scrolled": true
   },
   "outputs": [
    {
     "data": {
      "text/plain": [
       "count    1945.000000\n",
       "mean     2006.918766\n",
       "std         4.895469\n",
       "min      1964.000000\n",
       "25%      2004.000000\n",
       "50%      2007.000000\n",
       "75%      2010.000000\n",
       "max      2019.000000\n",
       "Name: year, dtype: float64"
      ]
     },
     "execution_count": 6,
     "metadata": {},
     "output_type": "execute_result"
    }
   ],
   "source": [
    "cars_df['year'].describe()"
   ]
  },
  {
   "cell_type": "code",
   "execution_count": 33,
   "id": "70f361d8-e694-4251-82c5-dce3eb835cc8",
   "metadata": {},
   "outputs": [
    {
     "data": {
      "text/html": [
       "<div>\n",
       "<style scoped>\n",
       "    .dataframe tbody tr th:only-of-type {\n",
       "        vertical-align: middle;\n",
       "    }\n",
       "\n",
       "    .dataframe tbody tr th {\n",
       "        vertical-align: top;\n",
       "    }\n",
       "\n",
       "    .dataframe thead th {\n",
       "        text-align: right;\n",
       "    }\n",
       "</style>\n",
       "<table border=\"1\" class=\"dataframe\">\n",
       "  <thead>\n",
       "    <tr style=\"text-align: right;\">\n",
       "      <th></th>\n",
       "      <th>year</th>\n",
       "      <th>make</th>\n",
       "      <th>model</th>\n",
       "      <th>engine_type</th>\n",
       "      <th>engine_cylinders</th>\n",
       "      <th>engine_displacement</th>\n",
       "      <th>engine</th>\n",
       "    </tr>\n",
       "  </thead>\n",
       "  <tbody>\n",
       "    <tr>\n",
       "      <th>870</th>\n",
       "      <td>2008</td>\n",
       "      <td>SMART</td>\n",
       "      <td>FORTWO</td>\n",
       "      <td>L</td>\n",
       "      <td>3.0</td>\n",
       "      <td>1.0</td>\n",
       "      <td>L3, 1.0L (61 CID); DOHC</td>\n",
       "    </tr>\n",
       "    <tr>\n",
       "      <th>1884</th>\n",
       "      <td>2013</td>\n",
       "      <td>CHEVROLET</td>\n",
       "      <td>SPARK</td>\n",
       "      <td>L</td>\n",
       "      <td>4.0</td>\n",
       "      <td>1.2</td>\n",
       "      <td>L4, 1.2L; DOHC 16V; MFI</td>\n",
       "    </tr>\n",
       "    <tr>\n",
       "      <th>769</th>\n",
       "      <td>2015</td>\n",
       "      <td>MITSUBISHI</td>\n",
       "      <td>MIRAGE</td>\n",
       "      <td>L</td>\n",
       "      <td>3.0</td>\n",
       "      <td>1.2</td>\n",
       "      <td>L3, 1.2L; DOHC</td>\n",
       "    </tr>\n",
       "    <tr>\n",
       "      <th>506</th>\n",
       "      <td>2005</td>\n",
       "      <td>HONDA</td>\n",
       "      <td>CIVIC</td>\n",
       "      <td>L</td>\n",
       "      <td>4.0</td>\n",
       "      <td>1.3</td>\n",
       "      <td>L4, 1.3L</td>\n",
       "    </tr>\n",
       "    <tr>\n",
       "      <th>1585</th>\n",
       "      <td>2006</td>\n",
       "      <td>HONDA</td>\n",
       "      <td>CIVIC</td>\n",
       "      <td>L</td>\n",
       "      <td>4.0</td>\n",
       "      <td>1.3</td>\n",
       "      <td>L4, 1.3L; VTEC</td>\n",
       "    </tr>\n",
       "    <tr>\n",
       "      <th>1286</th>\n",
       "      <td>2010</td>\n",
       "      <td>HONDA</td>\n",
       "      <td>INSIGHT</td>\n",
       "      <td>L</td>\n",
       "      <td>4.0</td>\n",
       "      <td>1.3</td>\n",
       "      <td>L4, 1.3L</td>\n",
       "    </tr>\n",
       "    <tr>\n",
       "      <th>1290</th>\n",
       "      <td>2010</td>\n",
       "      <td>HONDA</td>\n",
       "      <td>INSIGHT</td>\n",
       "      <td>L</td>\n",
       "      <td>4.0</td>\n",
       "      <td>1.3</td>\n",
       "      <td>L4, 1.3L (1339 CC); SOHC 8V; V</td>\n",
       "    </tr>\n",
       "    <tr>\n",
       "      <th>483</th>\n",
       "      <td>2012</td>\n",
       "      <td>HONDA</td>\n",
       "      <td>INSIGHT</td>\n",
       "      <td>L</td>\n",
       "      <td>4.0</td>\n",
       "      <td>1.3</td>\n",
       "      <td>L4, 1.3L</td>\n",
       "    </tr>\n",
       "    <tr>\n",
       "      <th>105</th>\n",
       "      <td>2011</td>\n",
       "      <td>CHEVROLET</td>\n",
       "      <td>CRUZE</td>\n",
       "      <td>L</td>\n",
       "      <td>4.0</td>\n",
       "      <td>1.4</td>\n",
       "      <td>L4, 1.4L; DOHC; TURBO</td>\n",
       "    </tr>\n",
       "    <tr>\n",
       "      <th>370</th>\n",
       "      <td>2012</td>\n",
       "      <td>CHEVROLET</td>\n",
       "      <td>CRUZE</td>\n",
       "      <td>L</td>\n",
       "      <td>4.0</td>\n",
       "      <td>1.4</td>\n",
       "      <td>L4, 1.4L; TURBO</td>\n",
       "    </tr>\n",
       "  </tbody>\n",
       "</table>\n",
       "</div>"
      ],
      "text/plain": [
       "      year        make    model engine_type  engine_cylinders  \\\n",
       "870   2008       SMART   FORTWO           L               3.0   \n",
       "1884  2013   CHEVROLET    SPARK           L               4.0   \n",
       "769   2015  MITSUBISHI   MIRAGE           L               3.0   \n",
       "506   2005       HONDA    CIVIC           L               4.0   \n",
       "1585  2006       HONDA    CIVIC           L               4.0   \n",
       "1286  2010       HONDA  INSIGHT           L               4.0   \n",
       "1290  2010       HONDA  INSIGHT           L               4.0   \n",
       "483   2012       HONDA  INSIGHT           L               4.0   \n",
       "105   2011   CHEVROLET    CRUZE           L               4.0   \n",
       "370   2012   CHEVROLET    CRUZE           L               4.0   \n",
       "\n",
       "      engine_displacement                          engine  \n",
       "870                   1.0         L3, 1.0L (61 CID); DOHC  \n",
       "1884                  1.2         L4, 1.2L; DOHC 16V; MFI  \n",
       "769                   1.2                  L3, 1.2L; DOHC  \n",
       "506                   1.3                        L4, 1.3L  \n",
       "1585                  1.3                  L4, 1.3L; VTEC  \n",
       "1286                  1.3                        L4, 1.3L  \n",
       "1290                  1.3  L4, 1.3L (1339 CC); SOHC 8V; V  \n",
       "483                   1.3                       L4, 1.3L   \n",
       "105                   1.4           L4, 1.4L; DOHC; TURBO  \n",
       "370                   1.4                 L4, 1.4L; TURBO  "
      ]
     },
     "execution_count": 33,
     "metadata": {},
     "output_type": "execute_result"
    }
   ],
   "source": [
    "# top 10 smallest displacement engines\n",
    "cars_df\\\n",
    "    .query('engine_displacement.notnull()')\\\n",
    "    .sort_values(by=['engine_displacement', 'year'], ascending=True)\\\n",
    "    .drop_duplicates(subset=['make', 'model', 'engine'])\\\n",
    "    [['year', 'make', 'model', 'engine_type', 'engine_cylinders', 'engine_displacement', 'engine']]\\\n",
    "    .head(10)\n"
   ]
  },
  {
   "cell_type": "code",
   "execution_count": 42,
   "id": "88f9bf71-5ef4-4edb-ba84-ba1d3adbac03",
   "metadata": {},
   "outputs": [
    {
     "data": {
      "image/png": "[encoded data removed]",
      "text/plain": [
       "<Figure size 500x500 with 1 Axes>"
      ]
     },
     "metadata": {},
     "output_type": "display_data"
    }
   ],
   "source": [
    "sns.set_theme()\n",
    "ax=sns.displot(cars_df['engine_displacement'])"
   ]
  },
  {
   "cell_type": "code",
   "execution_count": 46,
   "id": "0d09ec82-2453-4e3b-b1b7-dd89f215b820",
   "metadata": {},
   "outputs": [
    {
     "ename": "AttributeError",
     "evalue": "'numpy.ndarray' object has no attribute 'set_xticks'",
     "output_type": "error",
     "traceback": [
      "\u001b[0;31m---------------------------------------------------------------------------\u001b[0m",
      "\u001b[0;31mAttributeError\u001b[0m                            Traceback (most recent call last)",
      "Cell \u001b[0;32mIn[46], line 1\u001b[0m\n\u001b[0;32m----> 1\u001b[0m \u001b[43max\u001b[49m\u001b[38;5;241;43m.\u001b[39;49m\u001b[43maxes\u001b[49m\u001b[38;5;241;43m.\u001b[39;49m\u001b[43mset_xticks\u001b[49m()\n",
      "\u001b[0;31mAttributeError\u001b[0m: 'numpy.ndarray' object has no attribute 'set_xticks'"
     ]
    }
   ],
   "source": [
    "ax."
   ]
  },
  {
   "cell_type": "code",
   "execution_count": null,
   "id": "ec397041-2ce6-4437-a102-57a74dd7f4af",
   "metadata": {},
   "outputs": [],
   "source": []
  }
 ],
 "metadata": {
  "kernelspec": {
   "display_name": "Python 3 (ipykernel)",
   "language": "python",
   "name": "python3"
  },
  "language_info": {
   "codemirror_mode": {
    "name": "ipython",
    "version": 3
   },
   "file_extension": ".py",
   "mimetype": "text/x-python",
   "name": "python",
   "nbconvert_exporter": "python",
   "pygments_lexer": "ipython3",
   "version": "3.11.6"
  }
 },
 "nbformat": 4,
 "nbformat_minor": 5
}
